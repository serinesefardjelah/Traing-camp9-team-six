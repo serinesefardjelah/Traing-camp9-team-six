{
 "cells": [
  {
   "cell_type": "code",
   "execution_count": 1,
   "metadata": {},
   "outputs": [],
   "source": [
    "import pandas as pd\n",
    "from sklearn.feature_extraction.text import CountVectorizer\n",
    "from sklearn.calibration import CalibratedClassifierCV\n",
    "from sklearn.svm import LinearSVC\n",
    "import pickle\n",
    "\n",
    "\n"
   ]
  },
  {
   "cell_type": "code",
   "execution_count": 2,
   "metadata": {},
   "outputs": [],
   "source": [
    "# Read in data\n",
    "data = pd.read_csv('clean_data.csv')\n",
    "texts = data['text'].astype(str)\n",
    "y = data['is_offensive']\n",
    "\n",
    "# Vectorize the text\n",
    "vectorizer = CountVectorizer(stop_words='english', min_df=0.0001)\n",
    "X = vectorizer.fit_transform(texts)"
   ]
  },
  {
   "cell_type": "code",
   "execution_count": 3,
   "metadata": {},
   "outputs": [],
   "source": [
    "\n",
    "# Train the model\n",
    "model = LinearSVC(class_weight=\"balanced\", dual=False, tol=1e-2, max_iter=100000)\n",
    "cclf = CalibratedClassifierCV(model)  \n",
    "cclf.fit(X, y)\n",
    "\n",
    "# Save the model\n",
    "pickle.dump(cclf, open('model2.pkl', 'wb'))\n",
    "pickle.dump(vectorizer, open('vectorizer.pkl', 'wb'))"
   ]
  }
 ],
 "metadata": {
  "kernelspec": {
   "display_name": "Python 3.11.1 64-bit (microsoft store)",
   "language": "python",
   "name": "python3"
  },
  "language_info": {
   "codemirror_mode": {
    "name": "ipython",
    "version": 3
   },
   "file_extension": ".py",
   "mimetype": "text/x-python",
   "name": "python",
   "nbconvert_exporter": "python",
   "pygments_lexer": "ipython3",
   "version": "3.11.1"
  },
  "orig_nbformat": 4,
  "vscode": {
   "interpreter": {
    "hash": "b365a6c9ebcae92d26abc4b1d61256b03592a60592f2f5c979014a722ae38b9a"
   }
  }
 },
 "nbformat": 4,
 "nbformat_minor": 2
}
